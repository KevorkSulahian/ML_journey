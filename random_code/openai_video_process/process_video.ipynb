{
 "cells": [
  {
   "cell_type": "code",
   "execution_count": 1,
   "metadata": {},
   "outputs": [],
   "source": [
    "import cv2\n",
    "from moviepy import VideoFileClip\n",
    "import time\n",
    "import base64\n",
    "\n",
    "VIDEO_PATH = \"video.mp4\""
   ]
  },
  {
   "cell_type": "code",
   "execution_count": 2,
   "metadata": {},
   "outputs": [],
   "source": [
    "import os"
   ]
  },
  {
   "cell_type": "code",
   "execution_count": 3,
   "metadata": {},
   "outputs": [
    {
     "name": "stdout",
     "output_type": "stream",
     "text": [
      "MoviePy - Writing audio in video.mp3\n"
     ]
    },
    {
     "name": "stderr",
     "output_type": "stream",
     "text": [
      "                                                                      \r"
     ]
    },
    {
     "name": "stdout",
     "output_type": "stream",
     "text": [
      "MoviePy - Done.\n",
      "Extracted 35 frames\n",
      "Extracted audio to video.mp3\n",
      "Done\n",
      "MoviePy - Writing audio in video.mp3\n"
     ]
    },
    {
     "name": "stderr",
     "output_type": "stream",
     "text": [
      "                                                                      "
     ]
    },
    {
     "name": "stdout",
     "output_type": "stream",
     "text": [
      "MoviePy - Done.\n",
      "Extracted 179 frames\n",
      "Extracted audio to video.mp3\n"
     ]
    },
    {
     "name": "stderr",
     "output_type": "stream",
     "text": [
      "\r"
     ]
    }
   ],
   "source": [
    "def process_video(video_path, seconds_per_frame=2):\n",
    "    base64Frames = []\n",
    "    base_video_path, _ = os.path.splitext(video_path)\n",
    "\n",
    "    video = cv2.VideoCapture(video_path)\n",
    "    total_frames = int(video.get(cv2.CAP_PROP_FRAME_COUNT))\n",
    "    fps = video.get(cv2.CAP_PROP_FPS)\n",
    "    frames_to_skip = int(fps * seconds_per_frame)\n",
    "    curr_frame=0\n",
    "\n",
    "    # Loop through the video and extract frames at specified sampling rate\n",
    "    while curr_frame < total_frames - 1:\n",
    "        video.set(cv2.CAP_PROP_POS_FRAMES, curr_frame)\n",
    "        success, frame = video.read()\n",
    "        if not success:\n",
    "            break\n",
    "        _, buffer = cv2.imencode(\".jpg\", frame)\n",
    "        base64Frames.append(base64.b64encode(buffer).decode(\"utf-8\"))\n",
    "        curr_frame += frames_to_skip\n",
    "    video.release()\n",
    "\n",
    "    # Extract audio from video\n",
    "    audio_path = f\"{base_video_path}.mp3\"\n",
    "    clip = VideoFileClip(video_path)\n",
    "    clip.audio.write_audiofile(audio_path, bitrate=\"32k\")\n",
    "    clip.audio.close()\n",
    "    clip.close()\n",
    "\n",
    "    print(f\"Extracted {len(base64Frames)} frames\")\n",
    "    print(f\"Extracted audio to {audio_path}\")\n",
    "    return base64Frames, audio_path\n",
    "\n",
    "# Extract 1 frame per second. You can adjust the `seconds_per_frame` parameter to change the sampling rate\n",
    "base64Frames, audio_path = process_video(VIDEO_PATH, seconds_per_frame=5)\n",
    "print(\"Done\")\n",
    "base64Frames, audio_path = process_video(VIDEO_PATH, seconds_per_frame=1)\n"
   ]
  },
  {
   "cell_type": "code",
   "execution_count": 4,
   "metadata": {},
   "outputs": [
    {
     "data": {
      "image/jpeg": "[encoded data removed]",
      "text/plain": [
       "<IPython.core.display.Image object>"
      ]
     },
     "metadata": {},
     "output_type": "display_data"
    }
   ],
   "source": [
    "from IPython.display import display, Image\n",
    "import base64\n",
    "\n",
    "# Simulating the display update process\n",
    "display_handle = display(None, display_id=True)\n",
    "for img in base64Frames:\n",
    "    decoded_image = base64.b64decode(img.encode(\"utf-8\"))\n",
    "    display_handle.update(Image(data=decoded_image))  # Ensure Image is properly imported\n",
    "    time.sleep(0.025)\n"
   ]
  },
  {
   "cell_type": "code",
   "execution_count": 5,
   "metadata": {},
   "outputs": [],
   "source": [
    "from openai import OpenAI, ChatCompletion\n",
    "import dotenv\n",
    "dotenv.load_dotenv()\n",
    "client = OpenAI()\n"
   ]
  },
  {
   "cell_type": "code",
   "execution_count": 14,
   "metadata": {},
   "outputs": [
    {
     "name": "stdout",
     "output_type": "stream",
     "text": [
      "# Video Summary\n",
      "\n",
      "The video features a political rally led by Donald Trump, where he discusses his campaign for the 2024 presidential election. The event is characterized by a backdrop of American flags and a prominent campaign sign reading \"Trump Vance 2024.\" \n",
      "\n",
      "## Key Highlights:\n",
      "- **Trump's Speech**: Throughout the video, Trump addresses the audience, emphasizing his campaign message and engaging with supporters. His gestures and expressions convey enthusiasm and confidence.\n",
      "- **Supporters**: The crowd appears energized, showing support for Trump as he speaks. Various frames capture the audience's reactions, including applause and cheers.\n",
      "- **Guest Appearances**: Dana White, the CEO of the Ultimate Fighting Championship, also makes an appearance, speaking alongside Trump and further rallying the crowd.\n",
      "- **Campaign Themes**: The speech touches on themes of making America great again, with Trump reiterating his commitment to fixing issues he identifies in the current political landscape.\n",
      "\n",
      "The video concludes with credits, indicating it was produced by Politico.\n"
     ]
    }
   ],
   "source": [
    "response = client.chat.completions.create(\n",
    "    model='gpt-4o-mini',\n",
    "    messages=[\n",
    "    {\"role\": \"system\", \"content\": \"You are generating a video summary. Please provide a summary of the video. Respond in Markdown.\"},\n",
    "    {\"role\": \"user\", \"content\": [\n",
    "        \"These are the frames from the video.\",\n",
    "        *map(lambda x: {\"type\": \"image_url\", \n",
    "                        \"image_url\": {\"url\": f'data:image/jpg;base64,{x}', \"detail\": \"low\"}}, base64Frames)\n",
    "        ],\n",
    "    }\n",
    "    ],\n",
    "    temperature=0,\n",
    ")\n",
    "print(response.choices[0].message.content)"
   ]
  },
  {
   "cell_type": "code",
   "execution_count": 7,
   "metadata": {},
   "outputs": [],
   "source": [
    "# Transcribe the audio\n",
    "transcription = client.audio.transcriptions.create(\n",
    "    model=\"whisper-1\",\n",
    "    file=open(audio_path, \"rb\"),\n",
    ")\n",
    "## OPTIONAL: Uncomment the line below to print the transcription\n",
    "# print(\"Transcript: \", transcription.text + \"\\n\\n\")\n",
    "\n",
    "# response = client.chat.completions.create(\n",
    "#     model='gpt-4o-mini',\n",
    "#     messages=[\n",
    "#     {\"role\": \"system\", \"content\":\"\"\"You are generating a transcript summary. Create a summary of the provided transcription. Respond in Markdown.\"\"\"},\n",
    "#     {\"role\": \"user\", \"content\": [\n",
    "#         {\"type\": \"text\", \"text\": f\"The audio transcription is: {transcription.text}\"}\n",
    "#         ],\n",
    "#     }\n",
    "#     ],\n",
    "#     temperature=0,\n",
    "# )\n",
    "# print(response.choices[0].message.content)"
   ]
  },
  {
   "cell_type": "code",
   "execution_count": 8,
   "metadata": {},
   "outputs": [
    {
     "name": "stdout",
     "output_type": "stream",
     "text": [
      "# Video Summary\n",
      "\n",
      "The video features a speech by Donald Trump, where he reflects on his political journey and expresses gratitude to the American people for their support. He emphasizes the significance of his election as both the 45th and 47th president, declaring it a remarkable political comeback. Trump outlines his vision for a prosperous America, focusing on strong borders and legal immigration. He mentions various public figures, including Elon Musk and Joe Rogan, and highlights the importance of protecting American talent.\n",
      "\n",
      "Key points from the speech include:\n",
      "\n",
      "- **Political Comeback**: Trump claims to have witnessed the greatest political comeback in U.S. history.\n",
      "- **Economic Vision**: He promises to lead the country towards a significant economic recovery.\n",
      "- **Unity and Progress**: Trump calls for unity among Americans, urging them to put past divisions behind.\n",
      "- **Future Aspirations**: He envisions a future for America that is bigger, better, and stronger.\n",
      "\n",
      "The speech concludes with a message of hope and determination, reinforcing his commitment to the American people.\n"
     ]
    }
   ],
   "source": [
    "## Generate a summary with visual and audio\n",
    "response = client.chat.completions.create(\n",
    "    model='gpt-4o-mini',\n",
    "    messages=[\n",
    "    {\"role\": \"system\", \"content\":\"\"\"You are generating a video summary. Create a summary of the provided video and its transcript. Respond in Markdown\"\"\"},\n",
    "    {\"role\": \"user\", \"content\": [\n",
    "        \"These are the frames from the video.\",\n",
    "        *map(lambda x: {\"type\": \"image_url\", \n",
    "                        \"image_url\": {\"url\": f'data:image/jpg;base64,{x}', \"detail\": \"low\"}}, base64Frames),\n",
    "        {\"type\": \"text\", \"text\": f\"The audio transcription is: {transcription.text}\"}\n",
    "        ],\n",
    "    }\n",
    "],\n",
    "    temperature=0,\n",
    ")\n",
    "print(response.choices[0].message.content)"
   ]
  },
  {
   "cell_type": "code",
   "execution_count": 10,
   "metadata": {},
   "outputs": [],
   "source": [
    "a = {\"role\": \"user\", \"content\": [\n",
    "        \"These are the frames from the video.\",\n",
    "        *map(lambda x: {\"type\": \"image_url\", \n",
    "                        \"image_url\": {\"url\": f'data:image/jpg;base64,{x}', \"detail\": \"low\"}}, base64Frames),\n",
    "        {\"type\": \"text\", \"text\": f\"The audio transcription is: {transcription.text}\"}\n",
    "        ],\n",
    "    }"
   ]
  },
  {
   "cell_type": "code",
   "execution_count": 13,
   "metadata": {},
   "outputs": [
    {
     "data": {
      "text/plain": [
       "2"
      ]
     },
     "execution_count": 13,
     "metadata": {},
     "output_type": "execute_result"
    }
   ],
   "source": [
    "len(a)"
   ]
  },
  {
   "cell_type": "code",
   "execution_count": null,
   "metadata": {},
   "outputs": [],
   "source": []
  }
 ],
 "metadata": {
  "kernelspec": {
   "display_name": "llama",
   "language": "python",
   "name": "python3"
  },
  "language_info": {
   "codemirror_mode": {
    "name": "ipython",
    "version": 3
   },
   "file_extension": ".py",
   "mimetype": "text/x-python",
   "name": "python",
   "nbconvert_exporter": "python",
   "pygments_lexer": "ipython3",
   "version": "3.12.7"
  }
 },
 "nbformat": 4,
 "nbformat_minor": 2
}
