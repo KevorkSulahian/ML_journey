{
 "cells": [
  {
   "cell_type": "code",
   "execution_count": null,
   "id": "0b1968f9",
   "metadata": {},
   "outputs": [
    {
     "data": {
      "text/plain": [
       "True"
      ]
     },
     "execution_count": 3,
     "metadata": {},
     "output_type": "execute_result"
    }
   ],
   "source": [
    "import faiss\n",
    "import openai\n",
    "import numpy as np"
   ]
  },
  {
   "cell_type": "code",
   "execution_count": 12,
   "id": "ef2f2d24",
   "metadata": {},
   "outputs": [
    {
     "data": {
      "text/plain": [
       "True"
      ]
     },
     "execution_count": 12,
     "metadata": {},
     "output_type": "execute_result"
    }
   ],
   "source": [
    "import os\n",
    "from dotenv import load_dotenv\n",
    "\n",
    "# Construct the path to the .env file using the current working directory\n",
    "dotenv_path = os.path.abspath(os.path.join(os.getcwd(), '..', '..', '.env'))\n",
    "\n",
    "# Load the .env file\n",
    "load_dotenv(dotenv_path)"
   ]
  },
  {
   "cell_type": "code",
   "execution_count": 4,
   "id": "584bfb11",
   "metadata": {},
   "outputs": [],
   "source": [
    "docs = [\n",
    "    \"Paris is the capital and most populous city of France. The city is famed for the Eiffel Tower.\",\n",
    "    \"Jane Austen was an English novelist best known for 'Pride and Prejudice' and 'Sense and Sensibility'.\",\n",
    "    \"The Great Wall of China is a series of fortifications built to protect the ancient Chinese states.\",\n",
    "    \"Mount Everest, part of the Himalayas, is Earth’s highest mountain above sea level.\",\n",
    "    \"Mike loves the color pink more than any other color.\"\n",
    "]"
   ]
  },
  {
   "cell_type": "code",
   "execution_count": 13,
   "id": "5344e5d6",
   "metadata": {},
   "outputs": [],
   "source": [
    "# show key environment variables from load_dotenv\n",
    "\n",
    "\n",
    "client = openai.OpenAI()"
   ]
  },
  {
   "cell_type": "code",
   "execution_count": 14,
   "id": "645aeddc",
   "metadata": {},
   "outputs": [],
   "source": [
    "def get_embedding(text):\n",
    "    response = client.embeddings.create(model=\"text-embedding-3-small\", input=text)\n",
    "    return response.data[0].embedding"
   ]
  },
  {
   "cell_type": "code",
   "execution_count": 15,
   "id": "173f3dee",
   "metadata": {},
   "outputs": [],
   "source": [
    "embeddings = np.array([get_embedding(d) for d in docs]).astype('float32')\n",
    "index = faiss.IndexFlatIP(embeddings.shape[1])\n",
    "faiss.normalize_L2(embeddings)\n",
    "index.add(embeddings)"
   ]
  },
  {
   "cell_type": "code",
   "execution_count": 16,
   "id": "d1caa0d4",
   "metadata": {},
   "outputs": [],
   "source": [
    "def retrieve(query, k):\n",
    "    query_embedding = np.array([get_embedding(query)]).astype(\"float32\")\n",
    "    \n",
    "    faiss.normalize_L2(query_embedding)\n",
    "    _, idx = index.search(query_embedding, k)\n",
    "    \n",
    "    return [docs[i] for i in idx[0]]\n",
    "    \n",
    "\n",
    "def generate_answer(question, contexts):\n",
    "    prompt = (\n",
    "        \"Answer the user question **only** with facts found in the context.\\n\\n\"\n",
    "        \"Context:\\n\"\n",
    "        + \"\\n\".join(f\"- {c}\" for c in contexts)\n",
    "        + f\"\\n\\nQuestion: {question}\\nAnswer:\"\n",
    "    )\n",
    "\n",
    "    response = client.chat.completions.create(\n",
    "        model=\"gpt-4o\",\n",
    "        messages=[{\"role\": \"user\", \"content\": prompt}],\n",
    "        temperature=0,\n",
    "    )\n",
    "\n",
    "    return response.choices[0].message.content.strip()"
   ]
  },
  {
   "cell_type": "code",
   "execution_count": 17,
   "id": "b64b7b99",
   "metadata": {},
   "outputs": [],
   "source": [
    "from datasets import Dataset\n",
    "\n",
    "questions = [\n",
    "    \"What is the capital of France?\",\n",
    "    \"Who wrote Pride and Prejudice?\",\n",
    "    \"Where is Mount Everest located?\",\n",
    "    \"What is Mike's favorite color?\"\n",
    "]\n",
    "\n",
    "ground_truths = [\n",
    "    \"Paris\",\n",
    "    \"Jane Austen\",\n",
    "    \"the Himalayas\",\n",
    "    \"Pink\"\n",
    "]\n",
    "\n",
    "rows = []\n",
    "\n",
    "for question, ground_truth in zip(questions, ground_truths):\n",
    "    context = retrieve(question, k=2)\n",
    "    answer = generate_answer(question, context)\n",
    "    rows.append(\n",
    "        {\n",
    "            \"question\": question,\n",
    "            \"contexts\": context,\n",
    "            \"answer\": answer,\n",
    "            \"reference\": ground_truth,\n",
    "        }\n",
    "    )\n",
    "\n",
    "evaluation_dataset = Dataset.from_list(rows)"
   ]
  },
  {
   "cell_type": "code",
   "execution_count": 18,
   "id": "69c7a206",
   "metadata": {},
   "outputs": [
    {
     "data": {
      "application/vnd.jupyter.widget-view+json": {
       "model_id": "95ac3beaeee64b62ad58a1c7ae10247e",
       "version_major": 2,
       "version_minor": 0
      },
      "text/plain": [
       "Evaluating:   0%|          | 0/20 [00:00<?, ?it/s]"
      ]
     },
     "metadata": {},
     "output_type": "display_data"
    },
    {
     "name": "stdout",
     "output_type": "stream",
     "text": [
      "[{'question': 'What is the capital of France?', 'contexts': ['Paris is the capital and most populous city of France. The city is famed for the Eiffel Tower.', 'Mike loves the color pink more than any other color.'], 'answer': 'Paris is the capital of France.', 'reference': 'Paris'}, {'question': 'Who wrote Pride and Prejudice?', 'contexts': [\"Jane Austen was an English novelist best known for 'Pride and Prejudice' and 'Sense and Sensibility'.\", 'Mike loves the color pink more than any other color.'], 'answer': \"Jane Austen wrote 'Pride and Prejudice'.\", 'reference': 'Jane Austen'}, {'question': 'Where is Mount Everest located?', 'contexts': ['Mount Everest, part of the Himalayas, is Earth’s highest mountain above sea level.', 'Paris is the capital and most populous city of France. The city is famed for the Eiffel Tower.'], 'answer': 'Mount Everest is located in the Himalayas.', 'reference': 'the Himalayas'}, {'question': \"What is Mike's favorite color?\", 'contexts': ['Mike loves the color pink more than any other color.', 'Paris is the capital and most populous city of France. The city is famed for the Eiffel Tower.'], 'answer': \"Mike's favorite color is pink.\", 'reference': 'Pink'}]\n",
      "{'answer_correctness': 0.9719, 'answer_relevancy': 0.9985, 'faithfulness': 1.0000, 'context_precision': 1.0000, 'context_recall': 1.0000}\n"
     ]
    }
   ],
   "source": [
    "from ragas import evaluate\n",
    "from ragas.metrics import (\n",
    "    answer_correctness,\n",
    "    answer_relevancy,\n",
    "    faithfulness,\n",
    "    context_precision,\n",
    "    context_recall,\n",
    ")\n",
    "\n",
    "scores = evaluate(\n",
    "    evaluation_dataset,\n",
    "    metrics=[\n",
    "        answer_correctness,\n",
    "        answer_relevancy,\n",
    "        faithfulness,\n",
    "        context_precision,\n",
    "        context_recall,\n",
    "    ],\n",
    ")\n",
    "\n",
    "print(rows)\n",
    "print(scores)"
   ]
  },
  {
   "cell_type": "code",
   "execution_count": null,
   "id": "3266e008",
   "metadata": {},
   "outputs": [],
   "source": []
  }
 ],
 "metadata": {
  "kernelspec": {
   "display_name": "base",
   "language": "python",
   "name": "python3"
  },
  "language_info": {
   "codemirror_mode": {
    "name": "ipython",
    "version": 3
   },
   "file_extension": ".py",
   "mimetype": "text/x-python",
   "name": "python",
   "nbconvert_exporter": "python",
   "pygments_lexer": "ipython3",
   "version": "3.12.4"
  }
 },
 "nbformat": 4,
 "nbformat_minor": 5
}
