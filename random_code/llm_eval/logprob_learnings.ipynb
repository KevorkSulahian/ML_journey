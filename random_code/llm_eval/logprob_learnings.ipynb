{
 "cells": [
  {
   "cell_type": "code",
   "execution_count": 7,
   "id": "46efdaed",
   "metadata": {},
   "outputs": [
    {
     "name": "stdout",
     "output_type": "stream",
     "text": [
      "Environment Path: /Users/herooooooooo/ML_journey\n"
     ]
    }
   ],
   "source": [
    "import os\n",
    "from dotenv import load_dotenv\n",
    "\n",
    "# Get the path two folders back\n",
    "env_path = os.path.abspath(os.path.join(os.getcwd(), \"../../\"))\n",
    "\n",
    "# Load the .env file from the calculated path\n",
    "dotenv_path = os.path.join(env_path, \".env\")\n",
    "load_dotenv(dotenv_path)\n",
    "\n",
    "print(\"Environment Path:\", env_path)"
   ]
  },
  {
   "cell_type": "code",
   "execution_count": null,
   "id": "e4d72af4",
   "metadata": {},
   "outputs": [],
   "source": [
    "from openai import OpenAI\n",
    "\n",
    "client = OpenAI()"
   ]
  },
  {
   "cell_type": "code",
   "execution_count": 15,
   "id": "718a61ab",
   "metadata": {},
   "outputs": [],
   "source": [
    "response = client.chat.completions.create(\n",
    "    model=\"gpt-4o-mini\",\n",
    "    messages=[ \n",
    "        # {\"role\": \"system\", \"content\": \"You are a helpful assistant.\"},\n",
    "        {\"role\": \"user\", \"content\": \"What is the capital of France?\"}\n",
    "    ],\n",
    "    max_tokens=50,\n",
    "    temperature=0.7,\n",
    "    logprobs=True\n",
    ")"
   ]
  },
  {
   "cell_type": "code",
   "execution_count": 20,
   "id": "588860e9",
   "metadata": {},
   "outputs": [
    {
     "name": "stdout",
     "output_type": "stream",
     "text": [
      "('token', 'The') 1.0\n",
      "('token', ' capital') 1.0\n",
      "('token', ' of') 1.0\n",
      "('token', ' France') 1.0\n",
      "('token', ' is') 1.0\n",
      "('token', ' Paris') 0.9999980183344259\n",
      "('token', '.') 0.9999993295729128\n"
     ]
    }
   ],
   "source": [
    "import math\n",
    "\n",
    "for token, _, logprob, _ in response.choices[0].logprobs.content:\n",
    "    print(token, math.exp(logprob[1]))  "
   ]
  },
  {
   "cell_type": "code",
   "execution_count": 22,
   "id": "6dcd9a1b",
   "metadata": {},
   "outputs": [],
   "source": [
    "from pydantic import BaseModel, Field\n",
    "\n",
    "class PersonInfo(BaseModel):\n",
    "    name: str = Field(..., description=\"The name of the person\")\n",
    "    age: int = Field(..., ge=0, description=\"The age of the person, must be a non-negative integer\")\n",
    "    job: str = Field(..., description=\"The job of the person\")\n",
    "    favorite_color: str = Field(..., description=\"The favorite color of the person\")\n",
    "    "
   ]
  },
  {
   "cell_type": "code",
   "execution_count": 23,
   "id": "19c3d2cb",
   "metadata": {},
   "outputs": [],
   "source": [
    "prompt = \"Alice is a 30-year-old software engineer who loves blue.\"\n",
    "\n",
    "response = client.beta.chat.completions.parse(\n",
    "    model=\"gpt-4o-mini\",\n",
    "    messages=[ \n",
    "        {\"role\": \"system\", \"content\": \"based on input text, fill the data model with all of the information you can find\"},\n",
    "        {\"role\": \"user\", \"content\": prompt}\n",
    "    ], \n",
    "    max_tokens=50,\n",
    "    temperature=0.7,\n",
    "    logprobs=True,\n",
    "    response_format=PersonInfo\n",
    ")"
   ]
  },
  {
   "cell_type": "code",
   "execution_count": 24,
   "id": "c7273568",
   "metadata": {},
   "outputs": [
    {
     "data": {
      "text/plain": [
       "'{\"name\":\"Alice\",\"age\":30,\"job\":\"software engineer\",\"favorite_color\":\"blue\"}'"
      ]
     },
     "execution_count": 24,
     "metadata": {},
     "output_type": "execute_result"
    }
   ],
   "source": [
    "response.choices[0].message.content"
   ]
  },
  {
   "cell_type": "code",
   "execution_count": 25,
   "id": "ac079a04",
   "metadata": {},
   "outputs": [],
   "source": [
    "from structured_logprobs import add_logprobs\n",
    "\n",
    "completion = add_logprobs(response)"
   ]
  },
  {
   "cell_type": "code",
   "execution_count": 29,
   "id": "776aabd5",
   "metadata": {},
   "outputs": [
    {
     "data": {
      "text/plain": [
       "{'name': 1.0, 'age': 1.0, 'job': 0.9241415714110701, 'favorite_color': 1.0}"
      ]
     },
     "execution_count": 29,
     "metadata": {},
     "output_type": "execute_result"
    }
   ],
   "source": [
    "# completion.log_probs # convert the logprobs in math.exp format\n",
    "{k: math.exp(v) for k, v in completion.log_probs[0].items()}"
   ]
  }
 ],
 "metadata": {
  "kernelspec": {
   "display_name": "base",
   "language": "python",
   "name": "python3"
  },
  "language_info": {
   "codemirror_mode": {
    "name": "ipython",
    "version": 3
   },
   "file_extension": ".py",
   "mimetype": "text/x-python",
   "name": "python",
   "nbconvert_exporter": "python",
   "pygments_lexer": "ipython3",
   "version": "3.12.7"
  }
 },
 "nbformat": 4,
 "nbformat_minor": 5
}
