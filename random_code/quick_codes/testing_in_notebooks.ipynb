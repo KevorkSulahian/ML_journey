{
 "cells": [
  {
   "cell_type": "code",
   "execution_count": 1,
   "id": "2898cc9e",
   "metadata": {},
   "outputs": [],
   "source": [
    "import openai\n",
    "from typing import List, Dict\n",
    "import json\n",
    "from datetime import datetime\n",
    "from dotenv import load_dotenv\n",
    "from openai import OpenAI\n",
    "\n",
    "load_dotenv() \n",
    "\n",
    "class SupportAssistant:\n",
    "    def __init__(self):\n",
    "        # openai.api_key = api_key\n",
    "        self.conversation_history = []\n",
    "        self.current_ticket = {}\n",
    "        self.client = OpenAI() \n",
    "        \n",
    "    def add_to_history(self, role: str, content: str):\n",
    "        self.conversation_history.append({\"role\": role, \"content\": content})\n",
    "    \n",
    "    def get_completion(self, prompt: str) -> Dict:\n",
    "        self.add_to_history(\"user\", prompt)\n",
    "        \n",
    "        messages = [\n",
    "            {\"role\": \"system\", \n",
    "            \"content\": \"\"\"You are a helpful support assistant. \n",
    "            Classify user requests into: Bug, Feature Request, or Other. \n",
    "            Collect required information based on the type:\n",
    "            - Bug: username, description, version\n",
    "            - Feature Request: username, description, priority\n",
    "            - Other: username, description.\n",
    "            \n",
    "            Return the classification and details in JSON format.\n",
    "            If all of the required information is provided return with {\"end_conversation\": true}.\"\"\"},\n",
    "            *self.conversation_history\n",
    "        ]\n",
    "        \n",
    "        response = self.client.chat.completions.create(\n",
    "            model=\"gpt-3.5-turbo\",\n",
    "            messages=messages,\n",
    "            temperature=0.2,\n",
    "            max_tokens=150\n",
    "        )\n",
    "        \n",
    "        raw_response = response.choices[0].message.content\n",
    "        self.add_to_history(\"assistant\", raw_response)\n",
    "\n",
    "        # Try to parse JSON safely\n",
    "        try:\n",
    "            parsed_response = json.loads(raw_response)\n",
    "        except json.JSONDecodeError:\n",
    "            parsed_response = {\"message\": raw_response, \"end_conversation\": False}\n",
    "\n",
    "        return parsed_response\n",
    "\n",
    "    def create_ticket(self, category: str, details: Dict) -> Dict:\n",
    "        ticket = {\n",
    "            \"category\": category,\n",
    "            \"timestamp\": datetime.now().isoformat(),\n",
    "            \"status\": \"open\",\n",
    "            **details\n",
    "        }\n",
    "        return ticket\n",
    "\n",
    "# Example usage\n",
    "def main():\n",
    "    assistant = SupportAssistant()\n",
    "    print(\"Support Assistant: Hello! How can I help you today?\")\n",
    "    \n",
    "    while True:\n",
    "        user_input = input(\"User: \")\n",
    "        if user_input.lower() == \"exit\":\n",
    "            break\n",
    "            \n",
    "        response = assistant.get_completion(user_input)\n",
    "        if response.get(\"end_conversation\"):\n",
    "            print(\"Support Assistant: Thank you for the information. Your ticket has been created.\")\n",
    "            print(\"Generated Ticket:\", json.dumps(response, indent=2))  # Show ticket details\n",
    "            break\n",
    "        \n",
    "        # If no end_conversation, show assistant message\n",
    "        print(f\"Support Assistant: {response.get('message', response)}\")\n",
    "\n"
   ]
  },
  {
   "cell_type": "code",
   "execution_count": null,
   "id": "91d394ee",
   "metadata": {},
   "outputs": [
    {
     "name": "stdout",
     "output_type": "stream",
     "text": [
      "Support Assistant: Hello! How can I help you today?\n",
      "Support Assistant: What feature would you like to request? Please provide a description and the priority of this feature.\n",
      "Support Assistant: {'classification': 'Feature Request', 'details': {'username': 'herooo', 'description': 'I want dark mode.', 'priority': 'medium'}}\n",
      "Support Assistant: Great! If you have any more requests or need further assistance, feel free to reach out. Have a wonderful day! \n",
      "\n",
      "{\"end_conversation\": true}\n"
     ]
    }
   ],
   "source": [
    "main()"
   ]
  },
  {
   "cell_type": "code",
   "execution_count": null,
   "id": "1260ace5",
   "metadata": {},
   "outputs": [],
   "source": []
  }
 ],
 "metadata": {
  "kernelspec": {
   "display_name": "base",
   "language": "python",
   "name": "python3"
  },
  "language_info": {
   "codemirror_mode": {
    "name": "ipython",
    "version": 3
   },
   "file_extension": ".py",
   "mimetype": "text/x-python",
   "name": "python",
   "nbconvert_exporter": "python",
   "pygments_lexer": "ipython3",
   "version": "3.12.4"
  }
 },
 "nbformat": 4,
 "nbformat_minor": 5
}
