{
 "cells": [
  {
   "cell_type": "code",
   "execution_count": 1,
   "id": "b44a07e2",
   "metadata": {},
   "outputs": [],
   "source": [
    "import openai\n",
    "import re\n",
    "import httpx\n",
    "import os\n",
    "from dotenv import load_dotenv\n",
    "\n",
    "_ = load_dotenv()\n",
    "from openai import OpenAI"
   ]
  },
  {
   "cell_type": "code",
   "execution_count": 2,
   "id": "1edea13c",
   "metadata": {},
   "outputs": [],
   "source": [
    "client = OpenAI()"
   ]
  },
  {
   "cell_type": "code",
   "execution_count": 3,
   "id": "2edd3861",
   "metadata": {},
   "outputs": [],
   "source": [
    "chat_completion = client.chat.completions.create(\n",
    "    model=\"gpt-3.5-turbo\",\n",
    "    messages=[{\"role\": \"user\", \"content\": \"Hello world\"}]\n",
    ")"
   ]
  },
  {
   "cell_type": "code",
   "execution_count": 4,
   "id": "d5a6c8b2",
   "metadata": {},
   "outputs": [
    {
     "data": {
      "text/plain": [
       "'Hello! How can I assist you today?'"
      ]
     },
     "execution_count": 4,
     "metadata": {},
     "output_type": "execute_result"
    }
   ],
   "source": [
    "chat_completion.choices[0].message.content"
   ]
  },
  {
   "cell_type": "code",
   "execution_count": 5,
   "id": "9aa0c4ba",
   "metadata": {},
   "outputs": [],
   "source": [
    "class Agent:\n",
    "    def __init__(self, system=\"\"):\n",
    "        self.system = system\n",
    "        self.messages = []\n",
    "        if self.system:\n",
    "            self.messages.append({\"role\": \"system\", \"content\": system})\n",
    "\n",
    "    def __call__(self, message):\n",
    "        self.messages.append({\"role\": \"user\", \"content\": message})\n",
    "        result = self.execute()\n",
    "        self.messages.append({\"role\": \"assistant\", \"content\": result})\n",
    "        return result\n",
    "\n",
    "    def execute(self):\n",
    "        completion = client.chat.completions.create(\n",
    "                        model=\"gpt-4o\", \n",
    "                        temperature=0,\n",
    "                        messages=self.messages)\n",
    "        return completion.choices[0].message.content\n",
    "    "
   ]
  },
  {
   "cell_type": "code",
   "execution_count": 6,
   "id": "2cdaee8f",
   "metadata": {},
   "outputs": [],
   "source": [
    "prompt = \"\"\"\n",
    "You run in a loop of Thought, Action, PAUSE, Observation.\n",
    "At the end of the loop you output an Answer\n",
    "Use Thought to describe your thoughts about the question you have been asked.\n",
    "Use Action to run one of the actions available to you - then return PAUSE.\n",
    "Observation will be the result of running those actions.\n",
    "\n",
    "Your available actions are:\n",
    "\n",
    "calculate:\n",
    "e.g. calculate: 4 * 7 / 3\n",
    "Runs a calculation and returns the number - uses Python so be sure to use floating point syntax if necessary\n",
    "\n",
    "average_dog_weight:\n",
    "e.g. average_dog_weight: Collie\n",
    "returns average weight of a dog when given the breed\n",
    "\n",
    "Example session:\n",
    "\n",
    "Question: How much does a Bulldog weigh?\n",
    "Thought: I should look the dogs weight using average_dog_weight\n",
    "Action: average_dog_weight: Bulldog\n",
    "PAUSE\n",
    "\n",
    "You will be called again with this:\n",
    "\n",
    "Observation: A Bulldog weights 51 lbs\n",
    "\n",
    "You then output:\n",
    "\n",
    "Answer: A bulldog weights 51 lbs\n",
    "\"\"\".strip()"
   ]
  },
  {
   "cell_type": "code",
   "execution_count": 7,
   "id": "f1d9b279",
   "metadata": {},
   "outputs": [],
   "source": [
    "def calculate(what):\n",
    "    return eval(what)\n",
    "\n",
    "def average_dog_weight(name):\n",
    "    if name in \"Scottish Terrier\": \n",
    "        return(\"Scottish Terriers average 20 lbs\")\n",
    "    elif name in \"Border Collie\":\n",
    "        return(\"a Border Collies average weight is 37 lbs\")\n",
    "    elif name in \"Toy Poodle\":\n",
    "        return(\"a toy poodles average weight is 7 lbs\")\n",
    "    else:\n",
    "        return(\"An average dog weights 50 lbs\")\n",
    "\n",
    "known_actions = {\n",
    "    \"calculate\": calculate,\n",
    "    \"average_dog_weight\": average_dog_weight\n",
    "}"
   ]
  },
  {
   "cell_type": "code",
   "execution_count": 8,
   "id": "69bba9e8",
   "metadata": {},
   "outputs": [
    {
     "name": "stderr",
     "output_type": "stream",
     "text": [
      "<>:1: SyntaxWarning: invalid escape sequence '\\w'\n",
      "<>:1: SyntaxWarning: invalid escape sequence '\\w'\n",
      "C:\\Users\\kevor\\AppData\\Local\\Temp\\ipykernel_29836\\2389047760.py:1: SyntaxWarning: invalid escape sequence '\\w'\n",
      "  action_re = re.compile('^Action: (\\w+): (.*)$')   # python regular expression to selection action\n"
     ]
    }
   ],
   "source": [
    "action_re = re.compile('^Action: (\\w+): (.*)$')   # python regular expression to selection action"
   ]
  },
  {
   "cell_type": "code",
   "execution_count": 9,
   "id": "47c9ef55",
   "metadata": {},
   "outputs": [],
   "source": [
    "def query(question, max_turns=5):\n",
    "    i = 0\n",
    "    bot = Agent(prompt)\n",
    "    next_prompt = question\n",
    "    while i < max_turns:\n",
    "        i += 1\n",
    "        result = bot(next_prompt)\n",
    "        print(result)\n",
    "        actions = [\n",
    "            action_re.match(a) \n",
    "            for a in result.split('\\n') \n",
    "            if action_re.match(a)\n",
    "        ]\n",
    "        if actions:\n",
    "            # There is an action to run\n",
    "            action, action_input = actions[0].groups()\n",
    "            if action not in known_actions:\n",
    "                raise Exception(\"Unknown action: {}: {}\".format(action, action_input))\n",
    "            print(\" -- running {} {}\".format(action, action_input))\n",
    "            observation = known_actions[action](action_input)\n",
    "            print(\"Observation:\", observation)\n",
    "            next_prompt = \"Observation: {}\".format(observation)\n",
    "        else:\n",
    "            return"
   ]
  },
  {
   "cell_type": "code",
   "execution_count": 10,
   "id": "66511fe2",
   "metadata": {},
   "outputs": [
    {
     "name": "stdout",
     "output_type": "stream",
     "text": [
      "Thought: I need to find the average weight of both a Border Collie and a Scottish Terrier, then add them together to find the combined weight.\n",
      "Action: average_dog_weight: Border Collie\n",
      "PAUSE\n",
      " -- running average_dog_weight Border Collie\n",
      "Observation: a Border Collies average weight is 37 lbs\n",
      "Action: average_dog_weight: Scottish Terrier\n",
      "PAUSE\n",
      " -- running average_dog_weight Scottish Terrier\n",
      "Observation: Scottish Terriers average 20 lbs\n",
      "Action: calculate: 37 + 20\n",
      "PAUSE\n",
      " -- running calculate 37 + 20\n",
      "Observation: 57\n",
      "Answer: The combined average weight of a Border Collie and a Scottish Terrier is 57 lbs.\n"
     ]
    }
   ],
   "source": [
    "question = \"\"\"I have 2 dogs, a border collie and a scottish terrier. \\\n",
    "What is their combined weight\"\"\"\n",
    "query(question)"
   ]
  },
  {
   "cell_type": "code",
   "execution_count": 12,
   "id": "d7355310",
   "metadata": {},
   "outputs": [],
   "source": [
    "from langgraph.graph import StateGraph, END\n",
    "from typing import TypedDict, Annotated\n",
    "import operator\n",
    "from langchain_core.messages import AnyMessage, SystemMessage, HumanMessage, ToolMessage\n",
    "from langchain_openai import ChatOpenAI\n",
    "from langchain_community.tools.tavily_search import TavilySearchResults"
   ]
  },
  {
   "cell_type": "code",
   "execution_count": 13,
   "id": "828f701b",
   "metadata": {},
   "outputs": [
    {
     "name": "stdout",
     "output_type": "stream",
     "text": [
      "<class 'langchain_community.tools.tavily_search.tool.TavilySearchResults'>\n",
      "tavily_search_results_json\n"
     ]
    },
    {
     "name": "stderr",
     "output_type": "stream",
     "text": [
      "C:\\Users\\kevor\\AppData\\Local\\Temp\\ipykernel_29836\\144666821.py:1: LangChainDeprecationWarning: The class `TavilySearchResults` was deprecated in LangChain 0.3.25 and will be removed in 1.0. An updated version of the class exists in the :class:`~langchain-tavily package and should be used instead. To use it run `pip install -U :class:`~langchain-tavily` and import as `from :class:`~langchain_tavily import TavilySearch``.\n",
      "  tool = TavilySearchResults(max_results=4) #increased number of results\n"
     ]
    }
   ],
   "source": [
    "tool = TavilySearchResults(max_results=4) #increased number of results\n",
    "print(type(tool))\n",
    "print(tool.name)"
   ]
  },
  {
   "cell_type": "code",
   "execution_count": 14,
   "id": "e3afdf13",
   "metadata": {},
   "outputs": [],
   "source": [
    "class AgentState(TypedDict):\n",
    "    messages: Annotated[list[AnyMessage], operator.add]"
   ]
  },
  {
   "cell_type": "code",
   "execution_count": 15,
   "id": "e43c1d2b",
   "metadata": {},
   "outputs": [],
   "source": [
    "class Agent:\n",
    "\n",
    "    def __init__(self, model, tools, system=\"\"):\n",
    "        self.system = system\n",
    "        graph = StateGraph(AgentState)\n",
    "        graph.add_node(\"llm\", self.call_openai)\n",
    "        graph.add_node(\"action\", self.take_action)\n",
    "        graph.add_conditional_edges(\n",
    "            \"llm\",\n",
    "            self.exists_action,\n",
    "            {True: \"action\", False: END}\n",
    "        )\n",
    "        graph.add_edge(\"action\", \"llm\")\n",
    "        graph.set_entry_point(\"llm\")\n",
    "        self.graph = graph.compile()\n",
    "        self.tools = {t.name: t for t in tools}\n",
    "        self.model = model.bind_tools(tools)\n",
    "\n",
    "    def exists_action(self, state: AgentState):\n",
    "        result = state['messages'][-1]\n",
    "        return len(result.tool_calls) > 0\n",
    "\n",
    "    def call_openai(self, state: AgentState):\n",
    "        messages = state['messages']\n",
    "        if self.system:\n",
    "            messages = [SystemMessage(content=self.system)] + messages\n",
    "        message = self.model.invoke(messages)\n",
    "        return {'messages': [message]}\n",
    "\n",
    "    def take_action(self, state: AgentState):\n",
    "        tool_calls = state['messages'][-1].tool_calls\n",
    "        results = []\n",
    "        for t in tool_calls:\n",
    "            print(f\"Calling: {t}\")\n",
    "            if not t['name'] in self.tools:      # check for bad tool name from LLM\n",
    "                print(\"\\n ....bad tool name....\")\n",
    "                result = \"bad tool name, retry\"  # instruct LLM to retry if bad\n",
    "            else:\n",
    "                result = self.tools[t['name']].invoke(t['args'])\n",
    "            results.append(ToolMessage(tool_call_id=t['id'], name=t['name'], content=str(result)))\n",
    "        print(\"Back to the model!\")\n",
    "        return {'messages': results} "
   ]
  },
  {
   "cell_type": "code",
   "execution_count": 16,
   "id": "677e8cf8",
   "metadata": {},
   "outputs": [],
   "source": [
    "prompt = \"\"\"You are a smart research assistant. Use the search engine to look up information. \\\n",
    "You are allowed to make multiple calls (either together or in sequence). \\\n",
    "Only look up information when you are sure of what you want. \\\n",
    "If you need to look up some information before asking a follow up question, you are allowed to do that!\n",
    "\"\"\"\n",
    "\n",
    "model = ChatOpenAI(model=\"gpt-3.5-turbo\")  #reduce inference cost\n",
    "abot = Agent(model, [tool], system=prompt)"
   ]
  },
  {
   "cell_type": "code",
   "execution_count": 25,
   "id": "b2f338ad",
   "metadata": {},
   "outputs": [
    {
     "data": {
      "image/png": "[encoded data removed]",
      "text/plain": [
       "<IPython.core.display.Image object>"
      ]
     },
     "execution_count": 25,
     "metadata": {},
     "output_type": "execute_result"
    }
   ],
   "source": [
    "from IPython.display import Image\n",
    "\n",
    "Image(abot.graph.get_graph().draw_mermaid_png())"
   ]
  },
  {
   "cell_type": "code",
   "execution_count": 26,
   "id": "709583fa",
   "metadata": {},
   "outputs": [
    {
     "name": "stdout",
     "output_type": "stream",
     "text": [
      "Calling: {'name': 'tavily_search_results_json', 'args': {'query': 'weather in San Francisco'}, 'id': 'call_sRccIc6ercyonXeCT4g9YaMH', 'type': 'tool_call'}\n",
      "Back to the model!\n"
     ]
    }
   ],
   "source": [
    "messages = [HumanMessage(content=\"What is the weather in sf?\")]\n",
    "result = abot.graph.invoke({\"messages\": messages})"
   ]
  },
  {
   "cell_type": "code",
   "execution_count": 27,
   "id": "d784a6ea",
   "metadata": {},
   "outputs": [
    {
     "data": {
      "text/plain": [
       "{'messages': [HumanMessage(content='What is the weather in sf?', additional_kwargs={}, response_metadata={}),\n",
       "  AIMessage(content='', additional_kwargs={'tool_calls': [{'id': 'call_sRccIc6ercyonXeCT4g9YaMH', 'function': {'arguments': '{\"query\":\"weather in San Francisco\"}', 'name': 'tavily_search_results_json'}, 'type': 'function'}], 'refusal': None}, response_metadata={'token_usage': {'completion_tokens': 21, 'prompt_tokens': 153, 'total_tokens': 174, 'completion_tokens_details': {'accepted_prediction_tokens': 0, 'audio_tokens': 0, 'reasoning_tokens': 0, 'rejected_prediction_tokens': 0}, 'prompt_tokens_details': {'audio_tokens': 0, 'cached_tokens': 0}}, 'model_name': 'gpt-3.5-turbo-0125', 'system_fingerprint': None, 'id': 'chatcmpl-CGpHUbJZFjEHVFL49JVDtdSJT5F3Y', 'service_tier': 'default', 'finish_reason': 'tool_calls', 'logprobs': None}, id='lc_run--b5bef824-ba5a-4573-9186-3afcc6fc5607-0', tool_calls=[{'name': 'tavily_search_results_json', 'args': {'query': 'weather in San Francisco'}, 'id': 'call_sRccIc6ercyonXeCT4g9YaMH', 'type': 'tool_call'}], usage_metadata={'input_tokens': 153, 'output_tokens': 21, 'total_tokens': 174, 'input_token_details': {'audio': 0, 'cache_read': 0}, 'output_token_details': {'audio': 0, 'reasoning': 0}}),\n",
       "  ToolMessage(content='[{\\'title\\': \\'Weather San Francisco in September 2025: Temperature & Climate\\', \\'url\\': \\'https://en.climate-data.org/north-america/united-states-of-america/california/san-francisco-385/t/september-9/\\', \\'content\\': \\'| Date | Weather | Max. | Min. | Rainrisk | Windspeed | Precipitation / Rainfall mm (in) | Humidity |\\\\n ---  ---  ---  --- |\\\\n| 17. September | Clear sky | 20 °C 68 °F | 16 °C 60.8 °F | 0 % | 11 km/h 7 mph | 0mm 0 in | 76% |\\\\n| 18. September | Few clouds | 20 °C 68 °F | 16 °C 60.8 °F | 0 % | 12 km/h 7 mph | 0mm 0 in | 82% |\\\\n| 19. September | Scattered clouds | 19 °C 66.2 °F | 15 °C 59 °F | 20 % | 14 km/h 9 mph | 0mm 0 in | 83% | [...] | 16. September | 16 °C | 61 °F | 21 °C | 70 °F | 13 °C | 55 °F | 14 °C | 58 °F | 0.1 mm | 0.0 inch. |\\\\n| 17. September | 17 °C | 62 °F | 22 °C | 71 °F | 13 °C | 56 °F | 14 °C | 58 °F | 0.1 mm | 0.0 inch. |\\\\n| 18. September | 17 °C | 63 °F | 23 °C | 73 °F | 13 °C | 56 °F | 14 °C | 57 °F | 0.1 mm | 0.0 inch. |\\\\n| 19. September | 17 °C | 63 °F | 24 °C | 75 °F | 13 °C | 56 °F | 14 °C | 57 °F | 0.0 mm | 0.0 inch. | [...] | Max. Temperature °C (°F) | 14 °C (57.3) °F | 14.9 °C (58.7) °F | 16.2 °C (61.2) °F | 17.4 °C (63.3) °F | 19.2 °C (66.5) °F | 21.5 °C (70.8) °F | 21.8 °C (71.2) °F | 22.2 °C (71.9) °F | 23.1 °C (73.6) °F | 21.3 °C (70.3) °F | 17.1 °C (62.8) °F | 13.9 °C (57.1) °F |\\\\n| Precipitation / Rainfall mm (in) | 113 (4) | 118 (4) | 83 (3) | 40 (1) | 21 (0) | 6 (0) | 2 (0) | 2 (0) | 3 (0) | 25 (0) | 57 (2) | 111 (4) |\\\\n| Humidity(%) | 79% | 80% | 78% | 72% | 70% | 69% | 74% | 74% | 71% | 70% | 76% | 78% |\\', \\'score\\': 0.9363841}, {\\'title\\': \\'San Francisco weather in September 2025 | Weather25.com\\', \\'url\\': \\'https://www.weather25.com/north-america/usa/california/san-francisco?page=month&month=September\\', \\'content\\': \\'| 14 Image 41: Sunny 69°/57° | 15 Image 42: Partly cloudy 68°/55° | 16 Image 43: Mist 62°/55° | 17 Image 44: Mist 66°/53° | 18 Image 45: Thundery outbreaks possible 62°/57° | 19 Image 46: Sunny 68°/59° | 20 Image 47: Sunny 68°/59° |\\\\n| 21 Image 48: Sunny 71°/59° | 22 Image 49: Sunny 71°/59° | 23 Image 50: Sunny 69°/59° | 24 Image 51: Sunny 68°/59° | 25 Image 52: Patchy light rain 68°/60° | 26 Image 53: Patchy light rain 62°/59° | 27 Image 54: Sunny 64°/57° | [...] Tuesday Sep 16 Image 8: Mist 0 in 62°/55°Wednesday Sep 17 Image 9: Mist 0 in 66°/53°Thursday Sep 18 Image 10: Thundery outbreaks possible 0 in 62°/57°Friday Sep 19 Image 11: Sunny 0 in 68°/59°Saturday Sep 20 Image 12: Sunny 0 in 68°/59°Sunday Sep 21 Image 13: Sunny 0 in 71°/59°Monday Sep 22 Image 14: Sunny 0 in 71°/59°Tuesday Sep 23 Image 15: Sunny 0 in 69°/59°Wednesday Sep 24 Image 16: Sunny 0 in 68°/59°Thursday Sep 25 Image 17: Patchy light rain 0 in 68°/60°Friday Sep 26 Image 18: Patchy [...] | 28 Image 55: Sunny 66°/59° | 29 Image 56: Sunny 73°/60° | 30 Image 57: Sunny 71°/57° |  |  |  |  |\\', \\'score\\': 0.90330297}, {\\'title\\': \\'Weather in San Francisco in September 2025\\', \\'url\\': \\'https://world-weather.info/forecast/usa/san_francisco/september-2025/\\', \\'content\\': \"Weather\\\\n Archive\\\\n Weather Widget\\\\n\\\\n World\\\\n United States\\\\n California\\\\n Weather in San Francisco\\\\n\\\\n# Weather in San Francisco in September 2025\\\\n\\\\nSan Francisco Weather Forecast for September 2025 is based on long term prognosis and previous years\\' statistical data.\\\\n\\\\nJanFebMarAprMayJunJulAugSepOctNovDec\\\\n\\\\n  \\\\n\\\\n## September\\\\n\\\\nStart Week On\\\\n\\\\n Sun\\\\n Mon\\\\n Tue\\\\n Wed\\\\n Thu\\\\n Fri\\\\n Sat\\\\n\\\\n +73°\\\\n\\\\n  8.7 mph SW 29.9 inHg87 %06:40 am07:38 pm\\\\n 2\\\\n\\\\n  +72°\\\\n\\\\n  +59°\\\\n\\\\n  6.7 mph SW 29.8 inHg84 %06:41 am07:37 pm\\\\n 3\\\\n\\\\n  +68°\\\\n\\\\n  +61° [...] +70°\\\\n\\\\n  +63°\\\\n\\\\n  14.5 mph W 29.8 inHg73 %06:55 am07:11 pm\\\\n 20\\\\n\\\\n  +70°\\\\n\\\\n  +61°\\\\n\\\\n  15.4 mph W 29.9 inHg71 %06:56 am07:09 pm\\\\n 21\\\\n\\\\n  +70°\\\\n\\\\n  +61°\\\\n\\\\n  5.8 mph W 30 inHg85 %06:57 am07:07 pm\\\\n 22\\\\n\\\\n  +72°\\\\n\\\\n  +61°\\\\n\\\\n  19 mph SW 29.7 inHg50 %06:57 am07:06 pm\\\\n 23\\\\n\\\\n  +68°\\\\n\\\\n  +61°\\\\n\\\\n  18.1 mph SW 29.8 inHg74 %06:58 am07:04 pm\\\\n 24\\\\n\\\\n  +72°\\\\n\\\\n  +61°\\\\n\\\\n  7.6 mph W 30 inHg72 %06:59 am07:03 pm\\\\n 25\\\\n\\\\n  +64°\\\\n\\\\n  +61°\\\\n\\\\n  3.8 mph W 30 inHg85 %07:00 am07:01 pm\\\\n 26\\\\n\\\\n  +64°\\\\n\\\\n  +61° [...] 23.3 mph NW 30 inHg57 %07:01 am07:00 pm\\\\n 27\\\\n\\\\n  +68°\\\\n\\\\n  +61°\\\\n\\\\n  10.5 mph W 30 inHg47 %07:02 am06:58 pm\\\\n 28\\\\n\\\\n  +75°\\\\n\\\\n  +64°\\\\n\\\\n  15 mph NE 29.9 inHg31 %07:03 am06:57 pm\\\\n 29\\\\n\\\\n  +70°\\\\n\\\\n  +66°\\\\n\\\\n  17 mph N 29.6 inHg31 %07:04 am06:55 pm\\\\n 30\\\\n\\\\n  +70°\\\\n\\\\n  +64°\\\\n\\\\n  6.5 mph SW 29.9 inHg35 %07:04 am06:54 pm\\\\n\\\\n  \\\\n\\\\n## Extended weather forecast in San Francisco\\\\n\\\\nHourlyWeek10-Day14-Day30-DayYear\\\\n\\\\n## Weather in large and nearby cities\\\\n\\\\nWeather in Washington, D.C.+64°\\\\n\\\\nSacramento+70°\\\\n\\\\nPleasanton+63°\", \\'score\\': 0.882276}, {\\'title\\': \\'San Francisco weather in September 2025 | California\\', \\'url\\': \\'https://www.weather2travel.com/california/san-francisco/september/\\', \\'content\\': \"# San Francisco weather in September 2025\\\\n\\\\nExpect  daytime maximum temperatures of 22°C in San Francisco, California in September based on long-term weather averages. There are 9 hours of sunshine per day on average.\\\\n\\\\n 22°C max day temperature\\\\n 9 hours of sunshine per day\\\\n 2 days with some rainfall\\\\n 13°C min night temperature\\\\n 12 hours of daylight per day\\\\n 0\\\\n\\\\n  No heat & humidity\\\\n 7\\\\n\\\\n  7 mm of monthly rainfall\\\\n 7\\\\n\\\\n  7 (High) UV index\\\\n 14\\\\n\\\\n  14°C sea temperature\\\\n\\\\n### More about San Francisco [...] A beginner\\'s guide to San Francisco\\\\n Park life: San Francisco\\'s best gardens & green spaces\\\\n Where to relive the Summer of Love, San Francisco\\\\n\\\\n### How hot is it in San Francisco in September?\\\\n\\\\nDaytime temperatures usually reach 22°C in San Francisco in September, falling to 13°C at night.\\\\n\\\\n### How sunny is it in San Francisco in September?\\\\n\\\\nThere are normally 9 hours of bright sunshine each day in San Francisco in September - that\\'s 73% of daylight hours. [...] ### How warm is the sea around San Francisco in September?\\\\n\\\\nThe average sea temperature around San Francisco in September is 14°C.\\\\n\\\\n### Does it ever rain in San Francisco in September?\\\\n\\\\nThere are usually 2 days with some rain in San Francisco in September and the average monthly rainfall is 7mm.\\\\n\\\\n## San Francisco September sunrise & sunset times\", \\'score\\': 0.8790744}]', name='tavily_search_results_json', tool_call_id='call_sRccIc6ercyonXeCT4g9YaMH'),\n",
       "  AIMessage(content='The weather in San Francisco in September includes daytime maximum temperatures of around 22°C with 9 hours of sunshine per day on average. There are 2 days with some rainfall and the average monthly rainfall is 7mm. The night temperatures drop to around 13°C.', additional_kwargs={'refusal': None}, response_metadata={'token_usage': {'completion_tokens': 56, 'prompt_tokens': 2712, 'total_tokens': 2768, 'completion_tokens_details': {'accepted_prediction_tokens': 0, 'audio_tokens': 0, 'reasoning_tokens': 0, 'rejected_prediction_tokens': 0}, 'prompt_tokens_details': {'audio_tokens': 0, 'cached_tokens': 0}}, 'model_name': 'gpt-3.5-turbo-0125', 'system_fingerprint': None, 'id': 'chatcmpl-CGpHY3vkBZ6OSaQMxXHvctqtlcVjo', 'service_tier': 'default', 'finish_reason': 'stop', 'logprobs': None}, id='lc_run--69fb976b-6b64-43e7-b847-5d9cda9f78ea-0', usage_metadata={'input_tokens': 2712, 'output_tokens': 56, 'total_tokens': 2768, 'input_token_details': {'audio': 0, 'cache_read': 0}, 'output_token_details': {'audio': 0, 'reasoning': 0}})]}"
      ]
     },
     "execution_count": 27,
     "metadata": {},
     "output_type": "execute_result"
    }
   ],
   "source": [
    "result"
   ]
  },
  {
   "cell_type": "code",
   "execution_count": 28,
   "id": "1a91d009",
   "metadata": {},
   "outputs": [
    {
     "data": {
      "text/plain": [
       "'The weather in San Francisco in September includes daytime maximum temperatures of around 22°C with 9 hours of sunshine per day on average. There are 2 days with some rainfall and the average monthly rainfall is 7mm. The night temperatures drop to around 13°C.'"
      ]
     },
     "execution_count": 28,
     "metadata": {},
     "output_type": "execute_result"
    }
   ],
   "source": [
    "result['messages'][-1].content"
   ]
  },
  {
   "cell_type": "code",
   "execution_count": 29,
   "id": "5e429956",
   "metadata": {},
   "outputs": [
    {
     "name": "stdout",
     "output_type": "stream",
     "text": [
      "Calling: {'name': 'tavily_search_results_json', 'args': {'query': 'weather in San Francisco'}, 'id': 'call_JX5tjlzvC0lqnEKhu7UI1e1C', 'type': 'tool_call'}\n",
      "Calling: {'name': 'tavily_search_results_json', 'args': {'query': 'weather in Los Angeles'}, 'id': 'call_898RBKKXT034U1eeCRZdnskU', 'type': 'tool_call'}\n",
      "Back to the model!\n"
     ]
    }
   ],
   "source": [
    "messages = [HumanMessage(content=\"What is the weather in SF and LA?\")]\n",
    "result = abot.graph.invoke({\"messages\": messages})"
   ]
  },
  {
   "cell_type": "code",
   "execution_count": 30,
   "id": "3ec66c2d",
   "metadata": {},
   "outputs": [
    {
     "data": {
      "text/plain": [
       "'The weather in San Francisco for September 2025 includes temperatures ranging from 59°F to 70°F with clear skies and some scattered clouds. The average humidity is around 70-85%, and there is minimal precipitation with around 2-7 mm of rainfall expected throughout the month.\\n\\nIn Los Angeles for September 2025, the temperatures range from 64°F to 77°F, with mostly sunny weather and no rainy days anticipated. The humidity levels are around 48-72%, and there is very little to no precipitation expected.\\n\\nIf you need more specific details or have any other questions, feel free to ask!'"
      ]
     },
     "execution_count": 30,
     "metadata": {},
     "output_type": "execute_result"
    }
   ],
   "source": [
    "result['messages'][-1].content"
   ]
  },
  {
   "cell_type": "code",
   "execution_count": 31,
   "id": "5726bac0",
   "metadata": {},
   "outputs": [
    {
     "name": "stdout",
     "output_type": "stream",
     "text": [
      "Calling: {'name': 'tavily_search_results_json', 'args': {'query': '2024 Super Bowl winner'}, 'id': 'call_LEiPeCliSLSTjZRgmXCj7bka', 'type': 'tool_call'}\n",
      "Calling: {'name': 'tavily_search_results_json', 'args': {'query': '2024 Super Bowl winning team headquarters state GDP'}, 'id': 'call_qLekPwBEdgr47xashdyQx0Tk', 'type': 'tool_call'}\n",
      "Back to the model!\n",
      "Calling: {'name': 'tavily_search_results_json', 'args': {'query': 'Missouri GDP 2024'}, 'id': 'call_X7hPIETPGEQfDQYtVHe9DuOX', 'type': 'tool_call'}\n",
      "Back to the model!\n"
     ]
    }
   ],
   "source": [
    "# Note, the query was modified to produce more consistent results. \n",
    "# Results may vary per run and over time as search information and models change.\n",
    "\n",
    "query = \"Who won the super bowl in 2024? In what state is the winning team headquarters located? \\\n",
    "What is the GDP of that state? Answer each question.\" \n",
    "messages = [HumanMessage(content=query)]\n",
    "\n",
    "model = ChatOpenAI(model=\"gpt-4o\")  # requires more advanced model\n",
    "abot = Agent(model, [tool], system=prompt)\n",
    "result = abot.graph.invoke({\"messages\": messages})"
   ]
  },
  {
   "cell_type": "code",
   "execution_count": 32,
   "id": "82bcde58",
   "metadata": {},
   "outputs": [
    {
     "name": "stdout",
     "output_type": "stream",
     "text": [
      "1. The Kansas City Chiefs won the Super Bowl in 2024, defeating the San Francisco 49ers 25-22 in an overtime thriller.\n",
      "\n",
      "2. The headquarters of the Kansas City Chiefs is located in the state of Missouri.\n",
      "\n",
      "3. Missouri's GDP in 2024 was $356.7 billion, representing a 2.3% increase from the previous year.\n"
     ]
    }
   ],
   "source": [
    "print(result['messages'][-1].content)"
   ]
  }
 ],
 "metadata": {
  "kernelspec": {
   "display_name": "base",
   "language": "python",
   "name": "python3"
  },
  "language_info": {
   "codemirror_mode": {
    "name": "ipython",
    "version": 3
   },
   "file_extension": ".py",
   "mimetype": "text/x-python",
   "name": "python",
   "nbconvert_exporter": "python",
   "pygments_lexer": "ipython3",
   "version": "3.12.4"
  }
 },
 "nbformat": 4,
 "nbformat_minor": 5
}
