{
 "cells": [
  {
   "cell_type": "code",
   "execution_count": 40,
   "id": "edcd0149",
   "metadata": {},
   "outputs": [],
   "source": [
    "import numpy as np\n",
    "import pandas as pd\n",
    "from pydantic import BaseModel, Field\n",
    "from typing import Literal\n",
    "\n",
    "\n",
    "from langchain_community.document_loaders import PyPDFLoader\n",
    "\n",
    "from langchain_nvidia_ai_endpoints.embeddings import NVIDIAEmbeddings\n",
    "\n",
    "from langchain_core.vectorstores import InMemoryVectorStore\n",
    "from langchain.tools.retriever import create_retriever_tool\n",
    "\n",
    "from langgraph.graph import MessagesState\n",
    "from langchain.chat_models import init_chat_model\n",
    "\n",
    "from langgraph.graph import StateGraph, START, END\n",
    "from langgraph.prebuilt import ToolNode\n",
    "from langgraph.prebuilt import tools_condition\n",
    "\n",
    "import os\n",
    "os.environ[\"KMP_DUPLICATE_LIB_OK\"] = \"TRUE\""
   ]
  },
  {
   "cell_type": "code",
   "execution_count": 4,
   "id": "f53cdb8a",
   "metadata": {},
   "outputs": [],
   "source": [
    "pages = []\n",
    "\n",
    "for file_path in ['group_norm.pdf', 'rms_norm.pdf']:\n",
    "    loader = PyPDFLoader(file_path)\n",
    "\n",
    "    async for page in loader.alazy_load():\n",
    "        pages.append(page)"
   ]
  },
  {
   "cell_type": "code",
   "execution_count": 5,
   "id": "abe08e00",
   "metadata": {},
   "outputs": [
    {
     "data": {
      "text/plain": [
       "24"
      ]
     },
     "execution_count": 5,
     "metadata": {},
     "output_type": "execute_result"
    }
   ],
   "source": [
    "len(pages)"
   ]
  },
  {
   "cell_type": "code",
   "execution_count": 6,
   "id": "12901155",
   "metadata": {},
   "outputs": [],
   "source": [
    "embedding = NVIDIAEmbeddings(model=\"nvidia/llama-3.2-nemoretriever-1b-vlm-embed-v1\")\n",
    "\n",
    "vector_store = InMemoryVectorStore.from_documents(pages, embedding)\n",
    "retriever = vector_store.as_retriever()"
   ]
  },
  {
   "cell_type": "code",
   "execution_count": 7,
   "id": "f52edb01",
   "metadata": {},
   "outputs": [
    {
     "name": "stdout",
     "output_type": "stream",
     "text": [
      "Page: 0, Page content: Group Normalization\n",
      "Yuxin Wu Kaiming He\n",
      "Facebook AI Research (FAIR)\n",
      "{yuxinwu,kaiminghe}@fb.com\n",
      "Abstract\n",
      "Batch Normalization (BN) is a milestone technique in the\n",
      "development of deep learning, enabling various networks\n",
      "to train. However, normalizing along the batch dimension\n",
      "introduces problems — BN’s\n",
      "Page: 2, Page content: H, W\n",
      "C\n",
      "N\n",
      "Batch Norm\n",
      "H, W\n",
      "C\n",
      "N\n",
      "Layer Norm\n",
      "H, W\n",
      "C\n",
      "N\n",
      "Instance Norm\n",
      "H, W\n",
      "C\n",
      "N\n",
      "Group Norm\n",
      "Figure 2. Normalization methods. Each subplot shows a feature map tensor, with N as the batch axis, C as the channel axis, and (H, W)\n",
      "as the spatial axes. The pixels in blue are normalized by the same mean and varianc\n"
     ]
    }
   ],
   "source": [
    "# test\n",
    "\n",
    "docs = vector_store.similarity_search(\"What is group norm?\", k=2)\n",
    "\n",
    "\n",
    "for doc in docs:\n",
    "    print(f\"Page: {doc.metadata['page']}, Page content: {doc.page_content[:300]}\")"
   ]
  },
  {
   "cell_type": "code",
   "execution_count": 29,
   "id": "f3ad106c",
   "metadata": {},
   "outputs": [
    {
     "data": {
      "text/plain": [
       "'H, W\\nC\\nN\\nBatch Norm\\nH, W\\nC\\nN\\nLayer Norm\\nH, W\\nC\\nN\\nInstance Norm\\nH, W\\nC\\nN\\nGroup Norm\\nFigure 2. Normalization methods. Each subplot shows a feature map tensor, with N as the batch axis, C as the channel axis, and (H, W)\\nas the spatial axes. The pixels in blue are normalized by the same mean and variance, computed by aggregating the values of these pixels.\\nnumber. ShufﬂeNet [65] proposes a channel shufﬂe oper-\\nation that permutes the axes of grouped features. These\\nmethods all involve dividing the channel dimension into\\ngroups. Despite the relation to these methods, GN does not\\nrequire group convolutions. GN is a generic layer, as we\\nevaluate in standard ResNets [20].\\n3. Group Normalization\\nThe channels of visual representations are not entirely\\nindependent. Classical features of SIFT [39], HOG [9],\\nand GIST [41] are group-wise representations by design,\\nwhere each group of channels is constructed by some kind\\nof histogram. These features are often processed by group-\\nwise normalization over each histogram or each orientation.\\nHigher-level features such as VLAD [29] and Fisher Vec-\\ntors (FV) [44] are also group-wise features where a group\\ncan be thought of as the sub-vector computed with respect\\nto a cluster.\\nAnalogously, it is not necessary to think of deep neu-\\nral network features as unstructured vectors. For example,\\nfor conv1 (the ﬁrst convolutional layer) of a network, it is\\nreasonable to expect a ﬁlter and its horizontal ﬂipping to\\nexhibit similar distributions of ﬁlter responses on natural\\nimages. If conv 1 happens to approximately learn this pair\\nof ﬁlters, or if the horizontal ﬂipping (or other transforma-\\ntions) is made into the architectures by design [11, 8], then\\nthe corresponding channels of these ﬁlters can be normal-\\nized together.\\nThe higher-level layers are more abstract and their be-\\nhaviors are not as intuitive. However, in addition to orien-\\ntations (SIFT [39], HOG [9], or [11, 8]), there are many\\nfactors that could lead to grouping, e.g., frequency, shapes,\\nillumination, textures. Their coefﬁcients can be interde-\\npendent. In fact, a well-accepted computational model\\nin neuroscience is to normalize across the cell responses\\n[21, 52, 55, 5], “with various receptive-ﬁeld centers (cov-\\nering the visual ﬁeld) and with various spatiotemporal fre-\\nquency tunings” (p183, [21]); this can happen not only in\\nthe primary visual cortex, but also “throughout the visual\\nsystem” [5]. Motivated by these works, we propose new\\ngeneric group-wise normalization for deep neural networks.\\n3.1. Formulation\\nWe ﬁrst describe a general formulation of feature nor-\\nmalization, and then present GN in this formulation. A fam-\\nily of feature normalization methods, including BN, LN, IN,\\nand GN, perform the following computation:\\nˆxi = 1\\nσi\\n(xi −µi). (1)\\nHere xis the feature computed by a layer, andiis an index.\\nIn the case of 2D images, i= (iN,iC,iH,iW) is a 4D vec-\\ntor indexing the features in(N,C,H,W ) order, where N is\\nthe batch axis, C is the channel axis, and H and W are the\\nspatial height and width axes.\\nµand σin (1) are the mean and standard deviation (std)\\ncomputed by:\\nµi = 1\\nm\\n∑\\nk∈Si\\nxk, σ i =\\n√\\n1\\nm\\n∑\\nk∈Si\\n(xk −µi)2 + ϵ, (2)\\nwith ϵas a small constant. Si is the set of pixels in which\\nthe mean and std are computed, andmis the size of this set.\\nMany types of feature normalization methods mainly differ\\nin how the setSi is deﬁned (Figure 2), discussed as follows.\\nIn Batch Norm [26], the set Si is deﬁned as:\\nSi = {k|kC = iC}, (3)\\nwhere iC (and kC) denotes the sub-index of i(and k) along\\nthe C axis. This means that the pixels sharing the same\\nchannel index are normalized together, i.e., for each chan-\\nnel, BN computes µ and σ along the (N,H,W ) axes. In\\nLayer Norm [3], the set is:\\nSi = {k|kN = iN}, (4)\\nmeaning that LN computes µ and σ along the (C,H,W )\\naxes for each sample. In Instance Norm [61], the set is:\\nSi = {k|kN = iN,kC = iC}. (5)\\nmeaning that IN computes µand σalong the (H,W ) axes\\nfor each sample and each channel. The relations among BN,\\nLN, and IN are in Figure 2.\\n3'"
      ]
     },
     "execution_count": 29,
     "metadata": {},
     "output_type": "execute_result"
    }
   ],
   "source": [
    "doc.page_content"
   ]
  },
  {
   "cell_type": "code",
   "execution_count": 8,
   "id": "dfb53a07",
   "metadata": {},
   "outputs": [],
   "source": [
    "### The Retriever Tool\n",
    "\n",
    "retriever_tool = create_retriever_tool(\n",
    "    retriever=retriever,\n",
    "    name=\"ArxivPaperRetriever\",\n",
    "    description=\"Useful for answering questions about the content of the Arxiv papers\",\n",
    ")"
   ]
  },
  {
   "cell_type": "code",
   "execution_count": 10,
   "id": "162fad7d",
   "metadata": {},
   "outputs": [],
   "source": [
    "response_model = init_chat_model(model=\"openai:gpt-4o-mini\", temperature=1)\n",
    "\n",
    "def retrieve_or_respond(state: MessagesState) -> dict:\n",
    "\n",
    "    response = (\n",
    "        response_model.bind_tools([retriever_tool]).invoke(state[\"messages\"])\n",
    "    )\n",
    "\n",
    "    return {\"response\": response}"
   ]
  },
  {
   "cell_type": "code",
   "execution_count": 11,
   "id": "b342ee5f",
   "metadata": {},
   "outputs": [],
   "source": [
    "from langchain.schema import HumanMessage\n",
    "\n",
    "input = MessagesState(messages=[HumanMessage(content=\"What is group norm?\")])"
   ]
  },
  {
   "cell_type": "code",
   "execution_count": 14,
   "id": "335f88fe",
   "metadata": {},
   "outputs": [],
   "source": [
    "_ = retrieve_or_respond(input)"
   ]
  },
  {
   "cell_type": "code",
   "execution_count": 18,
   "id": "780ab19d",
   "metadata": {},
   "outputs": [
    {
     "data": {
      "text/plain": [
       "AIMessage(content='Group Normalization (Group Norm) is a technique used in deep learning and neural networks to normalize the activations of a layer for a mini-batch of data. It was introduced to address some of the limitations of Batch Normalization, particularly in scenarios where the batch size is small or varying.\\n\\nHere are the key features of Group Normalization:\\n\\n1. **Normalization Across Groups**: Instead of normalizing the entire mini-batch, Group Normalization divides the channels into groups and normalizes the feature maps within each group. This can be beneficial when dealing with smaller batch sizes.\\n\\n2. **Independence from Batch Size**: Group Normalization does not rely on the batch size, making it more suitable for tasks like image segmentation or situations with varying batch sizes.\\n\\n3. **Parameterization**: Like Batch Normalization, Group Normalization has learnable parameters (scale and shift) that allow the model to adaptively adjust the normalized activations.\\n\\n4. **Improved Performance**: It has been found to perform well in various tasks and architectures, particularly where Batch Normalization struggles, such as in recurrent neural networks (RNNs) or in real-time applications.\\n\\n5. **Formulation**: Given an input tensor, Group Normalization computes the mean and variance for the group of channels and normalizes the data accordingly, applying the learned scale and shift afterward.\\n\\nOverall, Group Normalization provides a more flexible and effective normalization strategy in certain scenarios, enhancing the training dynamics of neural networks.', additional_kwargs={'refusal': None}, response_metadata={'token_usage': {'completion_tokens': 302, 'prompt_tokens': 66, 'total_tokens': 368, 'completion_tokens_details': {'accepted_prediction_tokens': 0, 'audio_tokens': 0, 'reasoning_tokens': 0, 'rejected_prediction_tokens': 0}, 'prompt_tokens_details': {'audio_tokens': 0, 'cached_tokens': 0}}, 'model_name': 'gpt-4o-mini-2024-07-18', 'system_fingerprint': 'fp_560af6e559', 'id': 'chatcmpl-CLbKfbKhBq33xdjRwgyGTnIFPhTS5', 'service_tier': 'default', 'finish_reason': 'stop', 'logprobs': None}, id='run--97f264ea-0874-476f-b8c0-0c2a23ed6f21-0', usage_metadata={'input_tokens': 66, 'output_tokens': 302, 'total_tokens': 368, 'input_token_details': {'audio': 0, 'cache_read': 0}, 'output_token_details': {'audio': 0, 'reasoning': 0}})"
      ]
     },
     "execution_count": 18,
     "metadata": {},
     "output_type": "execute_result"
    }
   ],
   "source": [
    "_['response']"
   ]
  },
  {
   "cell_type": "code",
   "execution_count": 19,
   "id": "90842f65",
   "metadata": {},
   "outputs": [
    {
     "name": "stdout",
     "output_type": "stream",
     "text": [
      "==================================\u001b[1m Ai Message \u001b[0m==================================\n",
      "\n",
      "Hello! How can I assist you today?\n"
     ]
    }
   ],
   "source": [
    "input = MessagesState(messages=[HumanMessage(content=\"hello\")])\n",
    "_ = retrieve_or_respond(input)\n",
    "\n",
    "_['response'].pretty_print()"
   ]
  },
  {
   "cell_type": "code",
   "execution_count": 44,
   "id": "154e9228",
   "metadata": {},
   "outputs": [],
   "source": [
    "\n",
    "\n",
    "GRADE_PROMPT = (\n",
    "    \"\"\"\n",
    "    You are a grader assessing the relevance of a retrieved document to a user question.\n",
    "    \n",
    "    User Question: {question}\n",
    "    \n",
    "    Retrieved Document:\n",
    "    {context}\n",
    "    \n",
    "    Grading Criteria:\n",
    "    - If the retrieved document contains keywords or phrases similar in meaning to those in the user question, grade it as \"relevant\".\n",
    "    - If it does not contain similar keywords or meaning, grade it as \"irrelevant\".\n",
    "    \n",
    "    Output:\n",
    "    - \"yes\" — if the document is relevant\n",
    "    - \"no\" — if the document is irrelevant\n",
    "    \"\"\"\n",
    ")\n",
    "\n",
    "class GradeDocument(BaseModel):\n",
    "\n",
    "    binary_score: str = Field(\n",
    "        description= \"Relevance score: 'yes' for relevant, 'no' for irrelevant\"\n",
    "    )\n",
    "\n",
    "\n",
    "grader_model = init_chat_model(model=\"openai:gpt-4o-mini\", temperature=0)\n",
    "\n",
    "\n",
    "def grade_document(state: MessagesState) -> Literal['generate_answer', 'rewrite_question']:\n",
    "    \n",
    "    question = state['messages'][0].content\n",
    "    context = state['messages'][1].content\n",
    "\n",
    "    prompt = GRADE_PROMPT.format(question=question, context=context)\n",
    "\n",
    "    response = (\n",
    "        grader_model.with_structured_output(GradeDocument).invoke([HumanMessage(content=prompt)])\n",
    "    )\n",
    "\n",
    "    score = response.binary_score\n",
    "\n",
    "    if score == 'yes':\n",
    "        return 'generate_answer'\n",
    "    else:\n",
    "        return 'rewrite_question'\n",
    "\n",
    "\n",
    "\n"
   ]
  },
  {
   "cell_type": "code",
   "execution_count": 34,
   "id": "c857eb66",
   "metadata": {},
   "outputs": [
    {
     "name": "stdout",
     "output_type": "stream",
     "text": [
      "binary_score='no'\n",
      "<class '__main__.GradeDocument'>\n",
      "no\n"
     ]
    }
   ],
   "source": [
    "from langchain_core.messages import convert_to_messages\n",
    "\n",
    "input = {\n",
    "    \"messages\": convert_to_messages(\n",
    "        [\n",
    "            {\n",
    "                \"role\": \"user\",\n",
    "                \"content\": \"Group normalization has several advantages over batch normalization.\",\n",
    "            },\n",
    "            {\n",
    "                \"role\": \"assistant\",\n",
    "                \"content\": \"\",\n",
    "                \"tool_calls\": [\n",
    "                    {\n",
    "                        \"id\": \"1\",\n",
    "                        \"name\": \"retrieve_papers\",\n",
    "                        \"args\": {\"query\": \"advantages of group normalization\"},\n",
    "                    }\n",
    "                ],\n",
    "            },\n",
    "            {\"role\": \"tool\", \"content\": \"mehh\", \"tool_call_id\": \"1\"},\n",
    "        ]\n",
    "    )\n",
    "}\n",
    "_ = grade_document(input)"
   ]
  },
  {
   "cell_type": "code",
   "execution_count": 36,
   "id": "ccc9a241",
   "metadata": {},
   "outputs": [
    {
     "name": "stdout",
     "output_type": "stream",
     "text": [
      "binary_score='yes'\n",
      "<class '__main__.GradeDocument'>\n",
      "yes\n",
      "generated_answer\n"
     ]
    }
   ],
   "source": [
    "from langchain_core.messages import convert_to_messages\n",
    "\n",
    "input = {\n",
    "    \"messages\": convert_to_messages(\n",
    "        [\n",
    "            {\n",
    "                \"role\": \"user\",\n",
    "                \"content\": \"What are the advantages of Group normalization over batch normalization?\",\n",
    "            },\n",
    "            {\n",
    "                \"role\": \"assistant\",\n",
    "                \"content\": \"\",\n",
    "                \"tool_calls\": [\n",
    "                    {\n",
    "                        \"id\": \"1\",\n",
    "                        \"name\": \"retrieve_papers\",\n",
    "                        \"args\": {\"query\": \"advantages of normalization\"},\n",
    "                    }\n",
    "                ],\n",
    "            },\n",
    "            {\"role\": \"tool\", \"content\": \"Group normalization is much faster than batch normalization.\", \"tool_call_id\": \"1\"},\n",
    "        ]\n",
    "    )\n",
    "}\n",
    "_ = grade_document(input)\n",
    "\n",
    "print(_)"
   ]
  },
  {
   "cell_type": "code",
   "execution_count": 38,
   "id": "9cd8e237",
   "metadata": {},
   "outputs": [],
   "source": [
    "REWRITE_PROMPT = (\n",
    "    \"\"\"\n",
    "    You are a question rewriter, improving the clarity and effectiveness of a user's original question.\n",
    "\n",
    "    Original Question: {question}\n",
    "\n",
    "    Rewrite Criteria:    \n",
    "    Rewrite the question to make it clearer, more concise, and easier to understand, while preserving its original intent.\n",
    "    \n",
    "    If the question is ambiguous or vague, rephrase it to be more specific.\n",
    "    \n",
    "    Do not add new information or change the core meaning of the question.\n",
    "    \n",
    "    Output Format:\n",
    "    \n",
    "    Provide only the rewritten version of the question.\n",
    "    \"\"\"\n",
    ")\n",
    "\n",
    "def rewrite_question(state: MessagesState):\n",
    "    \"\"\"Rewrite the original user question.\"\"\"\n",
    "    messages = state[\"messages\"]\n",
    "    question = messages[0].content\n",
    "    prompt = REWRITE_PROMPT.format(question=question)\n",
    "    response = response_model.invoke([{\"role\": \"user\", \"content\": prompt}])\n",
    "    return {\"messages\": [{\"role\": \"user\", \"content\": response.content}]}"
   ]
  },
  {
   "cell_type": "code",
   "execution_count": 45,
   "id": "101b5936",
   "metadata": {},
   "outputs": [],
   "source": [
    "GENERATE_PROMPT = (\n",
    "    \"You are an assistant for question-answering tasks. \"\n",
    "    \"Use the following pieces of retrieved-context to answer the question. \"\n",
    "    \"If you don't know the answer, just say that you don't know. \"\n",
    "    \"Use three sentences maximum and keep the answer concise.\\n\"\n",
    "    \"Question: {question} \\n\"\n",
    "    \"Context: {context}\"\n",
    ")\n",
    "\n",
    "\n",
    "def generate_answer(state: MessagesState):\n",
    "    \"\"\"Generate an answer.\"\"\"\n",
    "    question = state[\"messages\"][0].content\n",
    "    context = state[\"messages\"][-1].content\n",
    "    prompt = GENERATE_PROMPT.format(question=question, context=context)\n",
    "    response = response_model.invoke([{\"role\": \"user\", \"content\": prompt}])\n",
    "    return {\"messages\": [response]}"
   ]
  },
  {
   "cell_type": "code",
   "execution_count": 46,
   "id": "e377895b",
   "metadata": {},
   "outputs": [
    {
     "name": "stderr",
     "output_type": "stream",
     "text": [
      "C:\\Users\\kevor\\AppData\\Local\\Temp\\ipykernel_30816\\3189891901.py:4: LangGraphDeprecatedSinceV10: ToolNode has been moved to langchain.agents.tool_node. Please update your import to 'from langchain.agents.tool_node import ToolNode'. Deprecated in LangGraph V1.0 to be removed in V2.0.\n",
      "  graph.add_node(\"retrieve\", ToolNode([retriever_tool]))\n"
     ]
    }
   ],
   "source": [
    "graph = StateGraph(MessagesState)\n",
    "\n",
    "graph.add_node(retrieve_or_respond)\n",
    "graph.add_node(\"retrieve\", ToolNode([retriever_tool]))\n",
    "graph.add_node(rewrite_question)\n",
    "graph.add_node(generate_answer)\n",
    "\n",
    "graph.add_edge(START, \"retrieve_or_respond\")\n",
    "\n",
    "graph.add_conditional_edges(\n",
    "    \"retrieve_or_respond\",\n",
    "    # Assess LLM decision (call `retriever_tool` tool or respond to the user)\n",
    "    tools_condition,\n",
    "    {\n",
    "        # Translate the condition outputs to nodes in our graph\n",
    "        \"tools\": \"retrieve\",\n",
    "        END: END,\n",
    "    },\n",
    ")\n",
    "\n",
    "# Edges taken after the `action` node is called.\n",
    "graph.add_conditional_edges(\n",
    "    \"retrieve\",\n",
    "    # Assess agent decision\n",
    "    grade_document,\n",
    ")\n",
    "graph.add_edge(\"generate_answer\", END)\n",
    "graph.add_edge(\"rewrite_question\", \"retrieve_or_respond\")\n",
    "\n",
    "# Compile\n",
    "compiled_graph = graph.compile()"
   ]
  },
  {
   "cell_type": "code",
   "execution_count": 47,
   "id": "483bd851",
   "metadata": {},
   "outputs": [
    {
     "data": {
      "image/png": "[encoded data removed]",
      "text/plain": [
       "<IPython.core.display.Image object>"
      ]
     },
     "metadata": {},
     "output_type": "display_data"
    }
   ],
   "source": [
    "from IPython.display import Image, display\n",
    "\n",
    "display(Image(compiled_graph.get_graph().draw_mermaid_png()))"
   ]
  }
 ],
 "metadata": {
  "kernelspec": {
   "display_name": "base",
   "language": "python",
   "name": "python3"
  },
  "language_info": {
   "codemirror_mode": {
    "name": "ipython",
    "version": 3
   },
   "file_extension": ".py",
   "mimetype": "text/x-python",
   "name": "python",
   "nbconvert_exporter": "python",
   "pygments_lexer": "ipython3",
   "version": "3.12.4"
  }
 },
 "nbformat": 4,
 "nbformat_minor": 5
}
