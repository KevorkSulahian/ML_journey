{
 "cells": [
  {
   "cell_type": "code",
   "execution_count": 1,
   "id": "e1bb4d40",
   "metadata": {},
   "outputs": [],
   "source": [
    "import os\n",
    "from datasets import load_dataset\n",
    "import openai\n"
   ]
  },
  {
   "cell_type": "code",
   "execution_count": 2,
   "id": "ae6b6954",
   "metadata": {},
   "outputs": [
    {
     "data": {
      "text/plain": [
       "True"
      ]
     },
     "execution_count": 2,
     "metadata": {},
     "output_type": "execute_result"
    }
   ],
   "source": [
    "from dotenv import load_dotenv\n",
    "\n",
    "# Load the .env file located two folders behind\n",
    "load_dotenv(\"../../.env\")\n",
    "\n",
    "# Print the OPENAI_API_KEY environment variable\n"
   ]
  },
  {
   "cell_type": "code",
   "execution_count": 3,
   "id": "cd49456d",
   "metadata": {},
   "outputs": [],
   "source": [
    "openai.api_key = os.getenv(\"OPENAI_API_KEY\")\n",
    "model_id = os.getenv(\"MODEL_ID\")"
   ]
  },
  {
   "cell_type": "code",
   "execution_count": 4,
   "id": "a8ed16cf",
   "metadata": {},
   "outputs": [],
   "source": [
    "arc = load_dataset(\"allenai/ai2_arc\", \"ARC-Challenge\", split=\"validation\")\n"
   ]
  },
  {
   "cell_type": "code",
   "execution_count": 5,
   "id": "753b863a",
   "metadata": {},
   "outputs": [
    {
     "data": {
      "text/plain": [
       "Dataset({\n",
       "    features: ['id', 'question', 'choices', 'answerKey'],\n",
       "    num_rows: 299\n",
       "})"
      ]
     },
     "execution_count": 5,
     "metadata": {},
     "output_type": "execute_result"
    }
   ],
   "source": [
    "arc"
   ]
  },
  {
   "cell_type": "code",
   "execution_count": 6,
   "id": "30c1331a",
   "metadata": {},
   "outputs": [
    {
     "data": {
      "text/plain": [
       "{'id': 'MDSA_2009_5_16',\n",
       " 'question': 'Students visited the Morris W. Offit telescope located at the Maryland Space Grant Observatory in Baltimore. They learned about the stars, planets, and moon. The students recorded the information below. • Star patterns stay the same, but their locations in the sky seem to change. • The sun, planets, and moon appear to move in the sky. • Proxima Centauri is the nearest star to our solar system. • Polaris is a star that is part of a pattern of stars called the Little Dipper. Which statement best explains why the sun appears to move across the sky each day?',\n",
       " 'choices': {'text': ['The sun revolves around Earth.',\n",
       "   'Earth rotates around the sun.',\n",
       "   'The sun revolves on its axis.',\n",
       "   'Earth rotates on its axis.'],\n",
       "  'label': ['A', 'B', 'C', 'D']},\n",
       " 'answerKey': 'D'}"
      ]
     },
     "execution_count": 6,
     "metadata": {},
     "output_type": "execute_result"
    }
   ],
   "source": [
    "arc[2]"
   ]
  },
  {
   "cell_type": "code",
   "execution_count": 7,
   "id": "8dc7571d",
   "metadata": {},
   "outputs": [],
   "source": [
    "prompt_data = []\n",
    "for item in arc:\n",
    "    question = item[\"question\"]\n",
    "    choices = item[\"choices\"]['text']\n",
    "    \n",
    "    prompt = f\"Question: {question}\\n\"\n",
    "    for i, choice in enumerate(choices):\n",
    "        prompt += f\"Choice {chr(65 + i)}: {choice}\\n\"\n",
    "    \n",
    "    prompt += \"Answer: \"\n",
    "    \n",
    "    prompt_data.append({\n",
    "        \"prompt\": prompt\n",
    "    })"
   ]
  },
  {
   "cell_type": "code",
   "execution_count": 8,
   "id": "a0d783e3",
   "metadata": {},
   "outputs": [
    {
     "name": "stdout",
     "output_type": "stream",
     "text": [
      "Question: Juan and LaKeisha roll a few objects down a ramp. They want to see which object rolls the farthest. What should they do so they can repeat their investigation?\n",
      "Choice A: Put the objects in groups.\n",
      "Choice B: Change the height of the ramp.\n",
      "Choice C: Choose different objects to roll.\n",
      "Choice D: Record the details of the investigation.\n",
      "Answer: \n"
     ]
    }
   ],
   "source": [
    "print(prompt_data[0]['prompt'])"
   ]
  },
  {
   "cell_type": "code",
   "execution_count": 9,
   "id": "dee07019",
   "metadata": {},
   "outputs": [],
   "source": [
    "from openai import OpenAI\n",
    "\n",
    "client = OpenAI()\n",
    "pred, gold = [], []\n",
    "\n",
    "for i, item in enumerate(prompt_data[:1]):\n",
    "    response = client.chat.completions.create(\n",
    "        model=model_id,\n",
    "        messages=[\n",
    "            {\n",
    "                \"role\": \"user\",\n",
    "                \"content\": item['prompt'],\n",
    "            }\n",
    "        ],\n",
    "        temperature=0.0,\n",
    "    )\n",
    "\n",
    "    answer = response.choices[0].message.content.strip()\n",
    "    pred.append(answer)\n",
    "\n",
    "    gold_answer = arc[i]['answerKey']\n",
    "    gold.append(gold_answer)\n"
   ]
  },
  {
   "cell_type": "code",
   "execution_count": 11,
   "id": "12490561",
   "metadata": {},
   "outputs": [
    {
     "name": "stdout",
     "output_type": "stream",
     "text": [
      "{'prompt': 'Question: Juan and LaKeisha roll a few objects down a ramp. They want to see which object rolls the farthest. What should they do so they can repeat their investigation?\\nChoice A: Put the objects in groups.\\nChoice B: Change the height of the ramp.\\nChoice C: Choose different objects to roll.\\nChoice D: Record the details of the investigation.\\nAnswer: '}\n",
      "D\n",
      "D\n"
     ]
    }
   ],
   "source": [
    "print(prompt_data[0])\n",
    "print(pred[0])\n",
    "print(gold[0])"
   ]
  },
  {
   "cell_type": "code",
   "execution_count": 12,
   "id": "08ee4a88",
   "metadata": {},
   "outputs": [],
   "source": [
    "from openai import OpenAI\n",
    "\n",
    "client = OpenAI()\n",
    "pred, gold = [], []\n",
    "\n",
    "for i, item in enumerate(prompt_data):\n",
    "    response = client.chat.completions.create(\n",
    "        model=model_id,\n",
    "        messages=[\n",
    "            {\n",
    "                \"role\": \"user\",\n",
    "                \"content\": item['prompt'],\n",
    "            }\n",
    "        ],\n",
    "        temperature=0.0,\n",
    "    )\n",
    "\n",
    "    answer = response.choices[0].message.content.strip()\n",
    "    pred.append(answer)\n",
    "\n",
    "    gold_answer = arc[i]['answerKey']\n",
    "    gold.append(gold_answer)\n"
   ]
  },
  {
   "cell_type": "code",
   "execution_count": 19,
   "id": "d9a92791",
   "metadata": {},
   "outputs": [
    {
     "name": "stdout",
     "output_type": "stream",
     "text": [
      "Accuracy: 0.9\n"
     ]
    }
   ],
   "source": [
    "acc = sum(prediction == correct_answer for prediction, correct_answer in zip(pred, gold)) \n",
    "acc /= len(pred)\n",
    "print(f\"Accuracy: {acc:.1f}\")"
   ]
  },
  {
   "cell_type": "code",
   "execution_count": 22,
   "id": "0b4ef931",
   "metadata": {},
   "outputs": [
    {
     "name": "stdout",
     "output_type": "stream",
     "text": [
      "[('the', 64), ('of', 41), ('a', 28), ('is', 21), ('to', 20)]\n"
     ]
    }
   ],
   "source": [
    "import collections\n",
    "import re\n",
    "\n",
    "wrong_q_texts = [\n",
    "   item[\"question\"] for item, prediction in zip(arc, pred) if prediction != item[\"answerKey\"]\n",
    "]\n",
    "\n",
    "\n",
    "word_counter = collections.Counter()\n",
    "for wrong in wrong_q_texts:\n",
    "    tokens = re.findall(r\"[a-zA-Z']+\", wrong.lower())\n",
    "    word_counter.update(tokens)\n",
    "\n",
    "top5 = word_counter.most_common(5)\n",
    "print(top5)"
   ]
  },
  {
   "cell_type": "code",
   "execution_count": null,
   "id": "7bd0d8c5",
   "metadata": {},
   "outputs": [],
   "source": []
  }
 ],
 "metadata": {
  "kernelspec": {
   "display_name": "base",
   "language": "python",
   "name": "python3"
  },
  "language_info": {
   "codemirror_mode": {
    "name": "ipython",
    "version": 3
   },
   "file_extension": ".py",
   "mimetype": "text/x-python",
   "name": "python",
   "nbconvert_exporter": "python",
   "pygments_lexer": "ipython3",
   "version": "3.12.7"
  }
 },
 "nbformat": 4,
 "nbformat_minor": 5
}
