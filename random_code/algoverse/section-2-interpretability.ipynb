{
 "cells": [
  {
   "cell_type": "code",
   "execution_count": 1,
   "id": "a2b44696",
   "metadata": {},
   "outputs": [
    {
     "data": {
      "text/plain": [
       "<torch._C.Generator at 0x113c16190>"
      ]
     },
     "execution_count": 1,
     "metadata": {},
     "output_type": "execute_result"
    }
   ],
   "source": [
    "import torch\n",
    "from transformer_lens import HookedTransformer\n",
    "from transformers import GPT2TokenizerFast\n",
    "from torch.nn.functional import softmax\n",
    "\n",
    "torch.manual_seed(0)\n"
   ]
  },
  {
   "cell_type": "code",
   "execution_count": 2,
   "id": "f6b53808",
   "metadata": {},
   "outputs": [
    {
     "name": "stdout",
     "output_type": "stream",
     "text": [
      "Loaded pretrained model gpt2-small into HookedTransformer\n"
     ]
    }
   ],
   "source": [
    "model = HookedTransformer.from_pretrained(\n",
    "    \"gpt2-small\",  fold_ln=False, center_writing_weights=False\n",
    ")\n",
    "tokenizer = GPT2TokenizerFast.from_pretrained(\"gpt2\")\n"
   ]
  },
  {
   "cell_type": "code",
   "execution_count": null,
   "id": "266af466",
   "metadata": {},
   "outputs": [],
   "source": [
    "prompt = \"The quick brown fox jumps over the lazy dog\"\n",
    "tokens = tokenizer(prompt, return_tensors=\"pt\")\n",
    "\n",
    "\n",
    "with torch.no_grad():\n",
    "    logits, cache = model.run_with_cache(tokens[\"input_ids\"])\n"
   ]
  },
  {
   "cell_type": "code",
   "execution_count": 9,
   "id": "fbb18d20",
   "metadata": {},
   "outputs": [
    {
     "name": "stdout",
     "output_type": "stream",
     "text": [
      "tensor([[[ 3.6957,  4.9717,  1.9038,  ..., -0.5333, -1.3929,  5.0638],\n",
      "         [ 5.2479,  5.9973,  1.0680,  ..., -0.5668, -0.7610,  3.9789],\n",
      "         [ 6.4179,  5.9967,  0.5801,  ..., -2.4536, -0.7232,  4.5632],\n",
      "         ...,\n",
      "         [ 3.1456,  3.4648,  0.1817,  ...,  0.8195, -0.5292,  1.4608],\n",
      "         [ 5.1333,  6.4010,  1.6858,  ..., -1.8190,  0.4957,  2.0539],\n",
      "         [10.9164,  8.9990,  4.4457,  ..., -3.4124,  2.5023,  7.4432]]],\n",
      "       device='mps:0', grad_fn=<ViewBackward0>)\n"
     ]
    }
   ],
   "source": [
    "print(model(tokens['input_ids']))"
   ]
  },
  {
   "cell_type": "code",
   "execution_count": 13,
   "id": "b2ade238",
   "metadata": {},
   "outputs": [],
   "source": [
    "\n",
    "n_layers = model.cfg.n_layers\n",
    "d_model  = model.cfg.d_model\n",
    "W_U = model.W_U       \n",
    "\n",
    "\n",
    "fox_id = tokenizer.encode(\"fox\")[0]\n",
    "\n",
    "probs_by_layer = []\n",
    "\n",
    "for layer in range(n_layers):\n",
    "\n",
    "    resid_post = cache[f\"blocks.{layer}.hook_resid_post\"][0]   \n",
    "\n",
    "    vec = resid_post[1]          \n",
    "    logits_early = vec @ W_U     \n",
    "    prob_early  = softmax(logits_early, dim=0)\n",
    "\n",
    "    probs_by_layer.append(prob_early[fox_id].item())\n"
   ]
  },
  {
   "cell_type": "code",
   "execution_count": 14,
   "id": "cc09d50e",
   "metadata": {},
   "outputs": [
    {
     "name": "stdout",
     "output_type": "stream",
     "text": [
      "Highest p('fox') = 1.623849675595302e-17  (layer 1)\n"
     ]
    }
   ],
   "source": [
    "best_layer  = max(range(n_layers), key=lambda i: probs_by_layer[i])\n",
    "best_prob   = probs_by_layer[best_layer]\n",
    "\n",
    "print(f\"Highest p('fox') = {best_prob:.15e}  (layer {best_layer})\")\n"
   ]
  },
  {
   "cell_type": "code",
   "execution_count": null,
   "id": "8dd74f33",
   "metadata": {},
   "outputs": [],
   "source": []
  }
 ],
 "metadata": {
  "kernelspec": {
   "display_name": "base",
   "language": "python",
   "name": "python3"
  },
  "language_info": {
   "codemirror_mode": {
    "name": "ipython",
    "version": 3
   },
   "file_extension": ".py",
   "mimetype": "text/x-python",
   "name": "python",
   "nbconvert_exporter": "python",
   "pygments_lexer": "ipython3",
   "version": "3.12.7"
  }
 },
 "nbformat": 4,
 "nbformat_minor": 5
}
